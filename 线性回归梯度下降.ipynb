{
 "cells": [
  {
   "cell_type": "markdown",
   "metadata": {},
   "source": [
    "### 0.引入依赖\n"
   ]
  },
  {
   "cell_type": "code",
   "execution_count": 13,
   "metadata": {},
   "outputs": [],
   "source": [
    "import numpy as np\n",
    "import matplotlib.pyplot as plt"
   ]
  },
  {
   "cell_type": "markdown",
   "metadata": {},
   "source": [
    "### 1.导入数据（data.csv）"
   ]
  },
  {
   "cell_type": "code",
   "execution_count": 14,
   "metadata": {},
   "outputs": [
    {
     "data": {
      "image/png": "[encoded data removed]",
      "text/plain": [
       "<Figure size 432x288 with 1 Axes>"
      ]
     },
     "metadata": {
      "needs_background": "light"
     },
     "output_type": "display_data"
    }
   ],
   "source": [
    "points = np.genfromtxt('data.csv' , delimiter = ',')\n",
    "points[0,0]\n",
    "\n",
    "#提取points中的两列分别作为X 和Y\n",
    "x = points[:,0]\n",
    "y = points[:,1]\n",
    "# 用plt画出散点图\n",
    "plt.scatter(x,y)\n",
    "plt.show()\n"
   ]
  },
  {
   "cell_type": "markdown",
   "metadata": {},
   "source": [
    "### 2.定义损失函数"
   ]
  },
  {
   "cell_type": "code",
   "execution_count": 15,
   "metadata": {},
   "outputs": [],
   "source": [
    "#损失函数是系数的函数，另外传入数据的x,y\n",
    "def compute_cost(w, b, points):\n",
    "    total_cost = 0\n",
    "    M = len(points)\n",
    "    #逐点计算平方损失误差\n",
    "    for i in range(M):\n",
    "        x = points[i, 0]\n",
    "        y = points[i, 1]\n",
    "        total_cost += ( y-w*x-b)**2\n",
    "        \n",
    "    return total_cost/M"
   ]
  },
  {
   "cell_type": "markdown",
   "metadata": {},
   "source": [
    "### 3.定义模型的超参数"
   ]
  },
  {
   "cell_type": "code",
   "execution_count": 16,
   "metadata": {},
   "outputs": [],
   "source": [
    "alpha = 0.0001\n",
    "initial_w = 0\n",
    "initial_b = 0\n",
    "num_iter = 10"
   ]
  },
  {
   "cell_type": "markdown",
   "metadata": {},
   "source": [
    "### 4.定义核心梯度下降算法函数"
   ]
  },
  {
   "cell_type": "code",
   "execution_count": 17,
   "metadata": {},
   "outputs": [],
   "source": [
    "def grad_desc(points, initial_w, initial_b, alpha, num_iter):\n",
    "    w = initial_w\n",
    "    b = initial_b\n",
    "    \n",
    "    #定义一个列表保存所有的损失函数值，佣来显示所有下降的过程\n",
    "    cost_list = []\n",
    "    \n",
    "    for i in range(num_iter):\n",
    "        cost_list.append(compute_cost(w,b,points))\n",
    "        w,b = step_grad_desc(w,b,alpha,points)\n",
    "    return [w, b, cost_list]\n",
    "\n",
    "def step_grad_desc(current_w,current_b,alpha,points):\n",
    "    sum_grad_w = 0\n",
    "    sum_grad_b = 0\n",
    "    M = len(points)\n",
    "    \n",
    "    #对每个点，带入公式去累加\n",
    "    for i in range(M):\n",
    "        x = points[i,0]\n",
    "        y = points[i,1]\n",
    "        sum_grad_w += (current_w * x + current_b -y)*x\n",
    "        sum_grad_b += current_w*x+current_b-y\n",
    "    \n",
    "    #用公式求出当前的梯度\n",
    "    grad_w = 2/M*sum_grad_w\n",
    "    grad_b = 2/M*sum_grad_b\n",
    "    \n",
    "    #梯度下降，更新当前的w和b\n",
    "    updated_w = current_w - alpha*grad_w\n",
    "    updated_b = current_b - alpha*grad_b\n",
    "    \n",
    "    return updated_w, updated_b\n",
    "    "
   ]
  },
  {
   "cell_type": "markdown",
   "metadata": {},
   "source": [
    "### 5.测试：运行梯度下降算法计算最优的ｗ和ｂ"
   ]
  },
  {
   "cell_type": "code",
   "execution_count": 23,
   "metadata": {},
   "outputs": [
    {
     "name": "stdout",
     "output_type": "stream",
     "text": [
      "w is: 1.4774173755483797\n",
      "b is: 0.02963934787473238\n",
      "cost is: 112.65585181499748\n"
     ]
    },
    {
     "data": {
      "image/png": "[encoded data removed]",
      "text/plain": [
       "<Figure size 432x288 with 1 Axes>"
      ]
     },
     "metadata": {
      "needs_background": "light"
     },
     "output_type": "display_data"
    }
   ],
   "source": [
    "w ,b ,cost_list = grad_desc(points, initial_w, initial_b, alpha, num_iter)\n",
    "print(\"w is:\", w)\n",
    "print(\"b is:\", b)\n",
    "\n",
    "cost = compute_cost(w, b, points)\n",
    "print(\"cost is:\", cost)\n",
    "\n",
    "plt.plot(cost_list)\n",
    "plt.show()"
   ]
  },
  {
   "cell_type": "markdown",
   "metadata": {},
   "source": [
    "### 5.画出拟合曲线"
   ]
  },
  {
   "cell_type": "code",
   "execution_count": 25,
   "metadata": {},
   "outputs": [
    {
     "data": {
      "image/png": "[encoded data removed]",
      "text/plain": [
       "<Figure size 432x288 with 1 Axes>"
      ]
     },
     "metadata": {
      "needs_background": "light"
     },
     "output_type": "display_data"
    }
   ],
   "source": [
    "plt.scatter(x,y)\n",
    "#针对每一个X，计算出预测的Y\n",
    "pred_y = w*x+b\n",
    "\n",
    "plt.plot(x,pred_y,c='r')\n",
    "plt.show()"
   ]
  },
  {
   "cell_type": "code",
   "execution_count": null,
   "metadata": {},
   "outputs": [],
   "source": []
  }
 ],
 "metadata": {
  "kernelspec": {
   "display_name": "Python 3",
   "language": "python",
   "name": "python3"
  },
  "language_info": {
   "codemirror_mode": {
    "name": "ipython",
    "version": 3
   },
   "file_extension": ".py",
   "mimetype": "text/x-python",
   "name": "python",
   "nbconvert_exporter": "python",
   "pygments_lexer": "ipython3",
   "version": "3.7.3"
  }
 },
 "nbformat": 4,
 "nbformat_minor": 2
}
