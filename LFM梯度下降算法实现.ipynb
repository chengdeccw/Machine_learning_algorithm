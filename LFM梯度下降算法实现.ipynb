{
 "cells": [
  {
   "cell_type": "markdown",
   "metadata": {},
   "source": [
    "# LFM梯度下降算法实现"
   ]
  },
  {
   "cell_type": "markdown",
   "metadata": {},
   "source": [
    "### 0.引入依赖"
   ]
  },
  {
   "cell_type": "code",
   "execution_count": 1,
   "metadata": {},
   "outputs": [],
   "source": [
    "import numpy as np\n",
    "import pandas as pd"
   ]
  },
  {
   "cell_type": "markdown",
   "metadata": {},
   "source": [
    "### 1.数据准备"
   ]
  },
  {
   "cell_type": "code",
   "execution_count": 2,
   "metadata": {},
   "outputs": [
    {
     "data": {
      "text/plain": [
       "5"
      ]
     },
     "execution_count": 2,
     "metadata": {},
     "output_type": "execute_result"
    }
   ],
   "source": [
    "#评分矩阵\n",
    "R = np.array([[4,0,2,0,1],\n",
    "             [0,2,3,0,0],\n",
    "             [1,0,2,4,0],\n",
    "             [5,0,0,3,1],\n",
    "             [0,0,1,5,1],\n",
    "             [0,3,2,4,1],])\n",
    "len(R[0])"
   ]
  },
  {
   "cell_type": "markdown",
   "metadata": {},
   "source": [
    "### 2.算法实现"
   ]
  },
  {
   "cell_type": "code",
   "execution_count": 20,
   "metadata": {},
   "outputs": [],
   "source": [
    "'''\n",
    "@输入参数：\n",
    "R：M*N的评分矩阵\n",
    "K：隐特征向量维度\n",
    "max_iter：最大迭代次数\n",
    "alpha：步长\n",
    "lamda：正则化系数\n",
    "\n",
    "@输出\n",
    "分解之后的P，Q\n",
    "P：初始化用户特征矩阵M*K\n",
    "Q：初始化物品特征矩阵N*K\n",
    "'''\n",
    "\n",
    "#给定超参数\n",
    "\n",
    "K = 5\n",
    "max_iter = 5000\n",
    "alpha = 0.0002\n",
    "lamda = 0.004\n",
    "\n",
    "#核心算法\n",
    "def LFM_grad_desc(R,K=2,max_iter=1000,alpha=0.0001,lamda=0.002):\n",
    "    #基本维度参数\n",
    "    M = len(R)\n",
    "    N = len(R[0])\n",
    "    \n",
    "    #P,Q初始化值，随机生成\n",
    "    P = np.random.rand(M,K)\n",
    "    Q = np.random.rand(N,K)\n",
    "    Q = Q.T\n",
    "    \n",
    "    #开始迭代\n",
    "    for step in range(max_iter):\n",
    "        #所有用户u、物品i做遍历，对应的特征向量Pu、Qi梯度下降\n",
    "        for u in range(M):\n",
    "            for i in range(N):\n",
    "                #对于每一个大于0的评分，求出预测评分误差\n",
    "                if R[u][i] > 0:\n",
    "                    eui = np.dot( P[u,:], Q[:,i] ) - R[u][i]\n",
    "                    \n",
    "                    #代入公式，按照梯度下降算法更新当前Pu，Qi\n",
    "                    for k in range(K):\n",
    "                        P[u][k] = P[u][k] - alpha*(2*eui*Q[k][i]+2*alpha*P[u][k])\n",
    "                        Q[k][i] = Q[k][i] - alpha*(2*eui*P[u][k]+2*alpha*Q[k][i])\n",
    "        \n",
    "        #u、i遍历完成，所有特征向量更新完成，可以得到P，Q，可以计算预测评分矩阵\n",
    "        predR = np.dot(P,Q)\n",
    "        \n",
    "        #计算当前损失函数\n",
    "        cost = 0\n",
    "        for u in range(M):\n",
    "            for i in range(N):\n",
    "                if R[u][i] > 0:\n",
    "                    cost += (np.dot(P[u,:],Q[:,i]) - R[u][i])**2\n",
    "                    #加上正则化项\n",
    "                    for k in range(K):\n",
    "                        cost += lamda*(P[u][k]**2+Q[k][i]**2)\n",
    "        if cost<0.0001:\n",
    "            break\n",
    "        \n",
    "    \n",
    "    return P,Q.T,cost"
   ]
  },
  {
   "cell_type": "markdown",
   "metadata": {},
   "source": [
    "### 3.测试"
   ]
  },
  {
   "cell_type": "code",
   "execution_count": 22,
   "metadata": {},
   "outputs": [
    {
     "name": "stdout",
     "output_type": "stream",
     "text": [
      "[[ 0.49454339  0.64047227  0.51952499  1.16352289  0.86304857]\n",
      " [ 0.4310208   0.17368038  1.11090158  1.36471766  0.08325639]\n",
      " [-0.76688075  0.54274155  1.28962412  0.76849973  0.50872009]\n",
      " [ 1.0752874   0.66021323  0.19628833  0.84433564  1.10915769]\n",
      " [ 0.39475392  1.57454612  0.83584495  0.25815515  1.10498781]\n",
      " [ 0.71834042  0.82841992  1.0601268   0.62460502  0.62439114]]\n",
      "[[ 1.76620963  1.08359101  0.24557437  0.99577524  1.3422584 ]\n",
      " [ 1.0704778   0.5719686   0.96954507  0.22020869  0.91317201]\n",
      " [ 0.30187861 -0.14591915  1.07884458  1.24632047 -0.07668373]\n",
      " [-0.00812173  1.47130679  1.65027484  0.7372873   0.98334093]\n",
      " [ 0.20522059  0.08273326  0.31612851  0.16333253  0.49481169]]\n",
      "0.5447106242268768\n",
      "[[4 0 2 0 1]\n",
      " [0 2 3 0 0]\n",
      " [1 0 2 4 0]\n",
      " [5 0 0 3 1]\n",
      " [0 0 1 5 1]\n",
      " [0 3 2 4 1]]\n"
     ]
    },
    {
     "data": {
      "text/plain": [
       "array([[4.01210079, 2.44376028, 2.00026224, 3.50219531, 0.93580316],\n",
       "       [2.69298418, 2.01435715, 2.99775396, 3.17338782, 0.71811017],\n",
       "       [0.99842313, 1.37363027, 1.9993891 , 3.99985234, 0.67245166],\n",
       "       [4.99233223, 2.91778471, 1.40729156, 2.99977082, 1.02407671],\n",
       "       [4.34888795, 3.19944753, 1.02816758, 4.96972245, 1.0644394 ],\n",
       "       [3.88680858, 2.97835833, 1.97025872, 4.037029  , 0.96206679]])"
      ]
     },
     "execution_count": 22,
     "metadata": {},
     "output_type": "execute_result"
    }
   ],
   "source": [
    "P, Q, cost = LFM_grad_desc(R,K,max_iter,alpha,lamda)\n",
    "\n",
    "print(P)\n",
    "print(Q)\n",
    "print(cost)\n",
    "\n",
    "predR = P.dot(Q.T)\n",
    "print(R)\n",
    "predR"
   ]
  },
  {
   "cell_type": "code",
   "execution_count": null,
   "metadata": {},
   "outputs": [],
   "source": []
  }
 ],
 "metadata": {
  "kernelspec": {
   "display_name": "Python 3",
   "language": "python",
   "name": "python3"
  },
  "language_info": {
   "codemirror_mode": {
    "name": "ipython",
    "version": 3
   },
   "file_extension": ".py",
   "mimetype": "text/x-python",
   "name": "python",
   "nbconvert_exporter": "python",
   "pygments_lexer": "ipython3",
   "version": "3.7.3"
  }
 },
 "nbformat": 4,
 "nbformat_minor": 2
}
